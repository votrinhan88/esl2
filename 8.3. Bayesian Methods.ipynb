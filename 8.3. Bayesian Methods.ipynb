{
 "cells": [
  {
   "cell_type": "code",
   "execution_count": null,
   "metadata": {},
   "outputs": [],
   "source": [
    "import numpy as np\n",
    "import matplotlib.pyplot as plt\n",
    "import pandas as pd\n",
    "import seaborn as sns\n",
    "import scipy.stats as sts\n",
    "from scipy.stats import binom, multivariate_normal\n",
    "import numpy as np\n",
    "import matplotlib.pyplot as plt"
   ]
  },
  {
   "cell_type": "code",
   "execution_count": null,
   "metadata": {},
   "outputs": [],
   "source": [
    "# industry = {\n",
    "#     \"2016\": [0, 0, 1, 0],\n",
    "#     \"2017\": [0, 0, 1, 1, 0],\n",
    "# }"
   ]
  },
  {
   "cell_type": "code",
   "execution_count": null,
   "metadata": {},
   "outputs": [],
   "source": [
    "probability_grid = np.linspace(0, 1, 1000)\n",
    "prior = np.ones(1000) / 1000\n",
    "obs = [0, 1, 0, 0, 0, 0, 1, 1, 0, 1]\n",
    "total_obs = 0\n",
    "total_true = 0\n",
    "idx = 0\n",
    "current_obs = []\n",
    "plt.plot(probability_grid, prior)\n",
    "plt.yticks([])\n"
   ]
  },
  {
   "cell_type": "code",
   "execution_count": null,
   "metadata": {},
   "outputs": [],
   "source": [
    "if idx < len(obs):\n",
    "    item = obs[idx]\n",
    "    if item == 1:\n",
    "        total_true += 1\n",
    "    total_obs += 1\n",
    "\n",
    "    current_obs.append(item)\n",
    "    title = \" \".join([str(i) for i in current_obs])\n",
    "    likelihood = binom.pmf(total_true, total_obs, p=probability_grid)\n",
    "    posterior = likelihood * prior\n",
    "    posterior = posterior / np.sum(posterior)\n",
    "    plt.plot(probability_grid, prior, linestyle=\"dashed\")\n",
    "    prior = posterior\n",
    "    plt.plot(probability_grid, prior)\n",
    "    plt.title(title)\n",
    "    print(\"mean:\", np.sum(probability_grid * prior))\n",
    "\n",
    "    idx = idx+1\n",
    "else:\n",
    "    plt.plot(probability_grid, prior)\n",
    "    plt.title(title)\n",
    "    print(\"mean:\", np.sum(probability_grid * prior))\n",
    "plt.yticks([])\n"
   ]
  },
  {
   "cell_type": "code",
   "execution_count": null,
   "metadata": {},
   "outputs": [],
   "source": [
    "obs = [1, 1, 1, 1, 1, 1]\n",
    "idx = 0\n",
    "if idx < len(obs):\n",
    "    item = obs[idx]\n",
    "    if item == 1:\n",
    "        total_true += 1\n",
    "    total_obs += 1\n",
    "\n",
    "    current_obs.append(item)\n",
    "    title = \" \".join([str(i) for i in current_obs])\n",
    "    likelihood = binom.pmf(total_true, total_obs, p=probability_grid)\n",
    "    posterior = likelihood * prior\n",
    "    posterior = posterior / np.sum(posterior)\n",
    "    plt.plot(probability_grid, prior, linestyle=\"dashed\")\n",
    "    prior = posterior\n",
    "    plt.plot(probability_grid, prior)\n",
    "    plt.title(title)\n",
    "    print(\"mean:\", np.sum(probability_grid * prior))\n",
    "\n",
    "    idx = idx+1\n",
    "else:\n",
    "    plt.plot(probability_grid, prior)\n",
    "    plt.title(title)\n",
    "    print(\"mean:\", np.sum(probability_grid * prior))\n",
    "plt.yticks([])\n"
   ]
  },
  {
   "cell_type": "code",
   "execution_count": null,
   "metadata": {},
   "outputs": [],
   "source": [
    "likelihood = binom.pmf(total_true, total_obs, p=probability_grid)\n",
    "prior = np.ones(1000) / 1000\n",
    "posterior = likelihood * prior\n",
    "posterior = posterior / np.sum(posterior)\n",
    "# print(np.var(posterior))\n",
    "# prior = posterior\n",
    "plt.plot(probability_grid, posterior)\n",
    "print(\"mean:\", np.sum(probability_grid * posterior))\n",
    "plt.yticks([])"
   ]
  },
  {
   "cell_type": "code",
   "execution_count": null,
   "metadata": {},
   "outputs": [],
   "source": []
  },
  {
   "cell_type": "code",
   "execution_count": null,
   "metadata": {},
   "outputs": [],
   "source": [
    "dataset = pd.read_csv('./Salary_Data.csv')\n",
    "X = dataset.iloc[:, :-1].values\n",
    "y = dataset.iloc[:, 1].values / 10000\n",
    "\n",
    "# Fit linear regression\n",
    "\n",
    "from sklearn.linear_model import LinearRegression\n",
    "regressor = LinearRegression()\n",
    "regressor.fit(X, y)\n",
    "\n",
    "# Predicting the Test set results\n",
    "y_pred = regressor.predict(X)"
   ]
  },
  {
   "cell_type": "code",
   "execution_count": null,
   "metadata": {},
   "outputs": [],
   "source": [
    "plt.scatter(X, y, c='b', label='Data')\n",
    "plt.plot(X, y_pred, c='r', label='Linear regression')\n",
    "plt.xlabel('Years of experience')\n",
    "plt.ylabel('Salary')\n",
    "plt.legend()"
   ]
  },
  {
   "cell_type": "code",
   "execution_count": null,
   "metadata": {},
   "outputs": [],
   "source": [
    "# Compute standard errors\n",
    "noise_std = np.sqrt(np.mean((y - y_pred)**2))\n",
    "print('Noise std: {:.3f}'.format(noise_std))\n",
    "\n",
    "X_1 = np.concatenate((X, np.ones_like(X)), axis=-1)\n",
    "H = np.linalg.inv(X_1.T @ X_1) @ X_1.T\n",
    "A = (X_1 @ H)** 0.5 * noise_std\n",
    "se = np.diag(A)\n",
    "se"
   ]
  },
  {
   "cell_type": "code",
   "execution_count": null,
   "metadata": {},
   "outputs": [],
   "source": [
    "plt.scatter(X, y, c='b', label='data')\n",
    "plt.plot(X, y_pred, c='r', label='Linear regression')\n",
    "plt.fill_between(X.reshape(-1), (y_pred - 1.96 * se), (y_pred + 1.96 * se), color='r', alpha=.2)"
   ]
  },
  {
   "cell_type": "code",
   "execution_count": null,
   "metadata": {},
   "outputs": [],
   "source": [
    "class ridge:\n",
    "    def __init__(self, likelihood_std=None, prior_mean=None, prior_std=None) -> None:\n",
    "        self.prior_mean = prior_mean\n",
    "        self.prior_std = prior_std\n",
    "        self.likelihood_std = likelihood_std\n",
    "        \n",
    "    def fit(self, X, y):\n",
    "        prior_var = self.prior_std**2\n",
    "\n",
    "        if self.likelihood_std is None:\n",
    "            likelihood_var = np.mean((y - np.mean(y))**2)\n",
    "            self.likelihood_std = np.sqrt(likelihood_var)\n",
    "            print(self.likelihood_std)\n",
    "        else:\n",
    "            likelihood_var = self.likelihood_std**2\n",
    "\n",
    "        X = np.concatenate((X, np.ones((X.shape[0], 1))), axis=1)\n",
    "        self.S = np.linalg.inv(X.T.dot(X) + np.identity(X.shape[1]) * likelihood_var / prior_var)\n",
    "        beta = self.S.dot(X.T.dot(y) + self.prior_mean * likelihood_var / prior_var)\n",
    "        self.beta = beta\n",
    "        print(self.S, beta)\n",
    "    \n",
    "    def predict(self, X):\n",
    "        return np.concatenate((X, np.ones((X.shape[0], 1))), axis=1).dot(self.beta)\n",
    "        return X.dot(self.beta)\n",
    "    \n",
    "    def sample(self, X, k=1000):\n",
    "        X = np.concatenate((X, np.ones((X.shape[0], 1))), axis=1)\n",
    "        # beta = multivariate_normal.rvs(self.prior_mean, self.prior_std**2 * np.eye(len(self.prior_mean)), k)\n",
    "        # prob = multivariate_normal.pdf(beta, self.prior_mean, self.prior_std**2 * np.eye(len(self.prior_mean)))\n",
    "        mean = X.dot(self.beta)\n",
    "        sigma = X.dot(self.S).dot(X.T) +self.likelihood_std**2\n",
    "        y = multivariate_normal.rvs(mean, sigma, k)\n",
    "\n",
    "        # return X[:, 0], y, np.sum(prob * y, axis=1)\n",
    "        return X, y.T, mean[:, np.newaxis]\n",
    "    \n",
    "    def draw_posterior(self):\n",
    "        beta = multivariate_normal.rvs(self.beta, self.S, 1000)\n",
    "        densitiy = multivariate_normal.pdf(beta, self.beta, self.S)\n",
    "\n",
    "\n",
    "        beta_prior = multivariate_normal.rvs(self.prior_mean, self.prior_std**2 * np.eye(len(self.prior_mean)), 1000)\n",
    "        densitiy_prior = multivariate_normal.pdf(beta, self.prior_mean, self.prior_std**2 * np.eye(len(self.prior_mean)))\n",
    "\n",
    "        plt.scatter(beta[:, 0], densitiy, c='b', label='data')\n",
    "        plt.scatter(beta_prior[:, 0], densitiy_prior, c='r', label='data')\n",
    "\n",
    "model = ridge(likelihood_std=1, prior_mean=np.array([0, 0]), prior_std=1)\n",
    "model.fit(X, y)\n"
   ]
  },
  {
   "cell_type": "code",
   "execution_count": null,
   "metadata": {},
   "outputs": [],
   "source": [
    "model.draw_posterior()"
   ]
  },
  {
   "cell_type": "code",
   "execution_count": null,
   "metadata": {},
   "outputs": [],
   "source": [
    "k=50\n",
    "X_sample, y_sample, y_mean = model.sample(X, k=k)\n",
    "y_std = np.sqrt(((y_sample - y_mean)**2).mean(axis=1))"
   ]
  },
  {
   "cell_type": "code",
   "execution_count": null,
   "metadata": {},
   "outputs": [],
   "source": [
    "plt.plot(X[:, 0], y_mean[:, 0])\n",
    "# plt.scatter(np.repeat(X_sample[:, np.newaxis, 0], k), y_sample, c='r', s=0.5,  label='Sample')\n",
    "plt.scatter(X, y, c='b', label='Data')\n",
    "plt.fill_between(X[:, 0], y_mean[:, 0] - y_std, y_mean[:, 0] + y_std, alpha=0.2)"
   ]
  },
  {
   "cell_type": "code",
   "execution_count": null,
   "metadata": {},
   "outputs": [],
   "source": [
    "plt.plot(X[:, 0], y_mean[:, 0])\n",
    "plt.scatter(np.repeat(X_sample[:, np.newaxis, 0], k), y_sample, c='r', s=0.5,  label='Sample')\n",
    "plt.scatter(X, y, c='b', label='Data')\n",
    "plt.fill_between(X[:, 0], y_mean[:, 0] - y_std, y_mean[:, 0] + y_std, alpha=0.2)"
   ]
  },
  {
   "cell_type": "code",
   "execution_count": null,
   "metadata": {},
   "outputs": [],
   "source": []
  },
  {
   "cell_type": "code",
   "execution_count": null,
   "metadata": {},
   "outputs": [],
   "source": []
  }
 ],
 "metadata": {
  "kernelspec": {
   "display_name": "ml",
   "language": "python",
   "name": "python3"
  },
  "language_info": {
   "codemirror_mode": {
    "name": "ipython",
    "version": 3
   },
   "file_extension": ".py",
   "mimetype": "text/x-python",
   "name": "python",
   "nbconvert_exporter": "python",
   "pygments_lexer": "ipython3",
   "version": "3.9.13"
  },
  "orig_nbformat": 4
 },
 "nbformat": 4,
 "nbformat_minor": 2
}
